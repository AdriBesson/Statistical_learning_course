{
 "cells": [
  {
   "cell_type": "markdown",
   "metadata": {},
   "source": [
    "# EPFL - Statistical learning (MATH-412) - Week 4\n",
    "## Model selection methods"
   ]
  },
  {
   "cell_type": "code",
   "execution_count": 29,
   "metadata": {
    "collapsed": false
   },
   "outputs": [],
   "source": [
    "import os\n",
    "import numpy as np\n",
    "import utils as ut\n",
    "import matplotlib.pyplot as plt\n",
    "import sklearn.linear_model as lm\n",
    "from sklearn.metrics import mean_squared_error as mse\n",
    "import sklearn.model_selection as model_selection\n",
    "import csv"
   ]
  },
  {
   "cell_type": "markdown",
   "metadata": {},
   "source": [
    "First, we load the 'bodyfat.csv' dataset:"
   ]
  },
  {
   "cell_type": "code",
   "execution_count": 6,
   "metadata": {
    "collapsed": false
   },
   "outputs": [],
   "source": [
    "# Load the dataset\n",
    "input_file = os.path.join(os.getcwd(), 'data', 'bodyfat.csv')\n",
    "file = open(input_file, 'rt')\n",
    "reader = csv.reader(file, delimiter=';')\n",
    "bodyfat = np.array([row for row in reader])\n",
    "\n",
    "# Extract the header\n",
    "header = bodyfat[0,:]\n",
    "\n",
    "# Remove rows 2 and 4\n",
    "col_to_del = [1, 3]\n",
    "bodyfat = np.delete(bodyfat[1:,:], col_to_del, axis=0)\n",
    "\n",
    "# Extract targets and features\n",
    "targets = bodyfat[:,0].astype(np.float64)\n",
    "features = np.array(bodyfat[:,1:]).T.astype(np.float64)"
   ]
  },
  {
   "cell_type": "markdown",
   "metadata": {},
   "source": [
    "We create a linear model using sklearn. Our objective is to find the most relevant number of features to use in the model."
   ]
  },
  {
   "cell_type": "code",
   "execution_count": 11,
   "metadata": {
    "collapsed": false
   },
   "outputs": [],
   "source": [
    "# Linear model\n",
    "linear_model = lm.LinearRegression(fit_intercept=True, normalize=False, copy_X=True, n_jobs=1)"
   ]
  },
  {
   "cell_type": "markdown",
   "metadata": {},
   "source": [
    "1\\. Perform best-subset selection, forward stepwise selection, backward stepwise selecttion for $k = 1, . . . , 13$. Plot the residual sum of squares of\n",
    "the best models over $k$."
   ]
  },
  {
   "cell_type": "code",
   "execution_count": 19,
   "metadata": {
    "collapsed": false
   },
   "outputs": [],
   "source": [
    "# Number of features considered for best subset selection\n",
    "list_n_features = np.arange(1,13)\n",
    "\n",
    "# Perform best subset selection, forward stepwise selection, backward stepwise selection\n",
    "rss_bss = []\n",
    "rss_fsw = []\n",
    "rss_bsw = []\n",
    "for n_features in list_n_features:\n",
    "    best_model, best_index, error_bss = ut.best_subset_selection(model=linear_model, n_features=n_features, features=features, targets=targets)\n",
    "    best_model, best_index, error_fsw = ut.forward_selection(model=linear_model, n_features=n_features, features=features,\n",
    "                                                     targets=targets)\n",
    "    bestmodel, best_index, error_bsw = ut.backward_selection(model=linear_model, n_features=n_features, features=features,\n",
    "                                                 targets=targets)\n",
    "    rss_bss.append(error_bss)\n",
    "    rss_fsw.append(error_fsw)\n",
    "    rss_bsw.append(error_bsw)"
   ]
  },
  {
   "cell_type": "code",
   "execution_count": 20,
   "metadata": {
    "collapsed": false
   },
   "outputs": [
    {
     "data": {
      "image/png": "[encoded data removed]",
      "text/plain": [
       "<matplotlib.figure.Figure at 0x7ff61271cb38>"
      ]
     },
     "metadata": {},
     "output_type": "display_data"
    }
   ],
   "source": [
    "# Display the results\n",
    "plt.subplot(221)\n",
    "ax = plt.gca()\n",
    "ax.scatter(list_n_features, rss_bss)\n",
    "plt.xlabel('number of features')\n",
    "plt.ylabel('RSS')\n",
    "plt.title('Best subset selection')\n",
    "plt.axis('tight')\n",
    "\n",
    "plt.subplot(222)\n",
    "ax = plt.gca()\n",
    "ax.scatter(list_n_features, rss_fsw)\n",
    "plt.xlabel('number of features')\n",
    "plt.ylabel('RSS')\n",
    "plt.title('Forward stepwise selection')\n",
    "plt.axis('tight')\n",
    "\n",
    "plt.subplot(223)\n",
    "ax = plt.gca()\n",
    "ax.scatter(list_n_features, rss_bsw[::-1])\n",
    "plt.xlabel('number of features')\n",
    "plt.ylabel('RSS')\n",
    "plt.title('Backward stepwise selection')\n",
    "plt.axis('tight')\n",
    "\n",
    "plt.show()"
   ]
  },
  {
   "cell_type": "markdown",
   "metadata": {},
   "source": [
    "We now create ridge and LASSO models using sklearn. We want to optimize the value of the regularization parameter using model selection algorithms."
   ]
  },
  {
   "cell_type": "code",
   "execution_count": 22,
   "metadata": {
    "collapsed": true
   },
   "outputs": [],
   "source": [
    "# Create LASSO and ridge models\n",
    "lasso = lm.Lasso(max_iter=1000, tol=1e-4, random_state=5)\n",
    "ridge = lm.Ridge()"
   ]
  },
  {
   "cell_type": "markdown",
   "metadata": {},
   "source": [
    "2\\. Perform ridge and lasso regression for some sequences of λ."
   ]
  },
  {
   "cell_type": "code",
   "execution_count": 25,
   "metadata": {
    "collapsed": false
   },
   "outputs": [],
   "source": [
    "# Fit Lasso and ridge for different values of the regularization parameter\n",
    "list_alphas = np.logspace(-6, 6, 200)\n",
    "rss_lasso = []\n",
    "rss_ridge = []\n",
    "coefs_lasso = []\n",
    "coefs_ridge = []\n",
    "for alpha in list_alphas:\n",
    "    # Set the value of alpha\n",
    "    lasso.set_params(alpha=alpha)\n",
    "    ridge.set_params(alpha=alpha)\n",
    "\n",
    "    # Fit the LASSO regression model\n",
    "    lasso.fit(features.T, targets)\n",
    "    coefs_lasso.append(lasso.coef_)\n",
    "\n",
    "    # Prediction with LASSO\n",
    "    predicted_target = lasso.predict(features.T)\n",
    "    rss_lasso.append(ut.compute_RSS(orig=targets, pred=predicted_target))\n",
    "\n",
    "    # Fit the ridge regression model\n",
    "    ridge.fit(features.T, targets)\n",
    "    coefs_ridge.append(ridge.coef_)\n",
    "\n",
    "    # Prediction with ridge\n",
    "    predicted_target_ridge = ridge.predict(features.T)\n",
    "    rss_ridge.append(ut.compute_RSS(orig=targets, pred=predicted_target_ridge))\n"
   ]
  },
  {
   "cell_type": "code",
   "execution_count": 26,
   "metadata": {
    "collapsed": false
   },
   "outputs": [
    {
     "data": {
      "image/png": "[encoded data removed]",
      "text/plain": [
       "<matplotlib.figure.Figure at 0x7ff612496a20>"
      ]
     },
     "metadata": {},
     "output_type": "display_data"
    }
   ],
   "source": [
    "# Display the results\n",
    "plt.subplot(221)\n",
    "ax = plt.gca()\n",
    "ax.plot(list_alphas, coefs_ridge)\n",
    "ax.set_xscale('log')\n",
    "plt.xlabel('alpha')\n",
    "plt.ylabel('weights')\n",
    "plt.title('Ridge coefficients')\n",
    "plt.axis('tight')\n",
    "\n",
    "plt.subplot(222)\n",
    "ax = plt.gca()\n",
    "ax.plot(list_alphas, rss_ridge)\n",
    "ax.set_xscale('log')\n",
    "plt.xlabel('alpha')\n",
    "plt.ylabel('error')\n",
    "plt.title('Ridge RSS')\n",
    "plt.axis('tight')\n",
    "\n",
    "plt.subplot(223)\n",
    "ax = plt.gca()\n",
    "ax.plot(list_alphas, coefs_lasso)\n",
    "ax.set_xscale('log')\n",
    "plt.xlabel('alpha')\n",
    "plt.ylabel('weights')\n",
    "plt.title('Lasso coefficients')\n",
    "plt.axis('tight')\n",
    "\n",
    "plt.subplot(224)\n",
    "ax = plt.gca()\n",
    "ax.plot(list_alphas, rss_lasso)\n",
    "ax.set_xscale('log')\n",
    "plt.xlabel('alpha')\n",
    "plt.ylabel('error')\n",
    "plt.title('Lasso RSS')\n",
    "plt.axis('tight')\n",
    "\n",
    "plt.show()"
   ]
  },
  {
   "cell_type": "markdown",
   "metadata": {},
   "source": [
    "3\\. You will try to find optimal values of k for subset selection, and λ for ridge and lasso,\n",
    "by evaluating the errors of the models on an independent test set. Unfortunately,\n",
    "we don’t have additional observations, you will then split your original dataset in\n",
    "two parts: 152 observations used for the training set and 100 observations used\n",
    "for the test set.\n",
    "Run best-subset, forward and backward selection procedures and identify for each\n",
    "method the value of k that minimizes the test error.\n",
    "Similarly, for ridge and lasso, identify a good value of λ that minimizes the test error.\n",
    "You can plot a graph of the test error over a sequence of values of λ."
   ]
  },
  {
   "cell_type": "markdown",
   "metadata": {},
   "source": [
    "First, we split our set into a training set and a test set using the sklearn function train_test_split"
   ]
  },
  {
   "cell_type": "code",
   "execution_count": 32,
   "metadata": {
    "collapsed": false
   },
   "outputs": [],
   "source": [
    "# Create training set and test set\n",
    "train_size = 152/252\n",
    "test_size = 100/252\n",
    "features_train, features_test, targets_train, targets_test = model_selection.train_test_split(features.T, targets, train_size=train_size, test_size=test_size, random_state=10)"
   ]
  },
  {
   "cell_type": "markdown",
   "metadata": {},
   "source": [
    "We perform best-subset selection, forward stepwise selection and backward stepwise selection on the training set. Then, we predict the targets on the test set and calculate the mean squared error."
   ]
  },
  {
   "cell_type": "code",
   "execution_count": 33,
   "metadata": {
    "collapsed": true
   },
   "outputs": [],
   "source": [
    "test_error_bss = []\n",
    "test_error_fwd = []\n",
    "test_error_bwd = []\n",
    "\n",
    "# Best subset selection\n",
    "for n_features in list_n_features:\n",
    "    # Best subset selection on the training set\n",
    "    best_model_bss, best_index, error_bss = ut.best_subset_selection(model=linear_model, n_features=n_features, features=features_train.T, targets=targets_train)\n",
    "\n",
    "    # Compute the prediction error on the test set\n",
    "    predicted_target = best_model_bss.predict(features_test[:,best_index])\n",
    "    rss_test = mse(y_true=targets_test, y_pred=predicted_target)\n",
    "    test_error_bss.append(rss_test)\n",
    "    \n",
    "# Forward stepwise selection\n",
    "for n_features in list_n_features:\n",
    "    # Best subset selection on the training set\n",
    "    best_model_fwd, best_index, error_fwd = ut.forward_selection(model=linear_model, n_features=n_features, features=features_train.T, targets=targets_train)\n",
    "\n",
    "    # Compute the prediction error on the test set\n",
    "    predicted_target = best_model_fwd.predict(features_test[:,best_index])\n",
    "    rss_test = mse(y_true=targets_test, y_pred=predicted_target)\n",
    "    test_error_fwd.append(rss_test)\n",
    "\n",
    "# Backward stepwise selection\n",
    "for n_features in list_n_features:\n",
    "    # Best subset selection on the training set\n",
    "    best_model_bwd, best_index, error_bwd = ut.backward_selection(model=linear_model, n_features=n_features, features=features_train.T, targets=targets_train)\n",
    "\n",
    "    # Compute the prediction error on the test set\n",
    "    predicted_target = best_model_bwd.predict(features_test[:,best_index])\n",
    "    rss_test = mse(y_true=targets_test, y_pred=predicted_target)\n",
    "    test_error_bwd.append(rss_test)"
   ]
  },
  {
   "cell_type": "code",
   "execution_count": null,
   "metadata": {
    "collapsed": true
   },
   "outputs": [],
   "source": [
    "# Display MSE for the three methods\n",
    "plt.subplot(221)\n",
    "plt.plot(list_n_features, test_error_fwd, label='Forward stepwise selection')\n",
    "plt.scatter(list_n_features[np.argmin(test_error_fwd)], np.min(test_error_fwd))\n",
    "plt.plot()\n",
    "plt.xlabel('Number of features')\n",
    "plt.ylabel('MSE')\n",
    "plt.title('Forward stepwise selection')\n",
    "\n",
    "plt.subplot(222)\n",
    "plt.plot(list_n_features, test_error_bwd[::-1], label='backward stepwise selection')\n",
    "plt.scatter(list_n_features[np.argmin(test_error_bwd[::-1])], np.min(test_error_bwd[::-1]))\n",
    "plt.xlabel('Number of features')\n",
    "plt.ylabel('MSE')\n",
    "plt.title('Backward stepwise selection')\n",
    "\n",
    "plt.subplot(223)\n",
    "plt.plot(list_n_features, test_error_bss, label='Best subset selection')\n",
    "plt.scatter(list_n_features[np.argmin(test_error_bss)], np.min(test_error_bss))\n",
    "plt.xlabel('Number of features')\n",
    "plt.ylabel('MSE')\n",
    "plt.title('Best subset selection')\n",
    "\n",
    "plt.show()"
   ]
  },
  {
   "cell_type": "markdown",
   "metadata": {},
   "source": [
    "We fit LASSO and ridge models on the training set, for different value of the regularization parameter. We select the model that minimizes the test MSE."
   ]
  },
  {
   "cell_type": "code",
   "execution_count": null,
   "metadata": {
    "collapsed": true
   },
   "outputs": [],
   "source": [
    "# Fit the model for different values of the regularization parameter\n",
    "list_alphas = np.logspace(-6, 6, 200)\n",
    "test_error_lasso = []\n",
    "test_error_ridge = []\n",
    "for alpha in list_alphas:\n",
    "    # Set the value of alpha\n",
    "    lasso.set_params(alpha=alpha)\n",
    "    ridge.set_params(alpha=alpha)\n",
    "\n",
    "    # Fit the LASSO model\n",
    "    lasso.fit(features_train, targets_train)\n",
    "\n",
    "    # Prediction with LASSO\n",
    "    predicted_target = lasso.predict(features_test)\n",
    "    test_error_lasso.append(mse(y_true=targets_test, y_pred=predicted_target))\n",
    "\n",
    "    # Fit the ridge regression model\n",
    "    ridge.fit(features_train, targets_train)\n",
    "\n",
    "    # Prediction with Ridge\n",
    "    predicted_target_ridge = ridge.predict(features_test)\n",
    "    test_error_ridge.append(mse(y_true=targets_test, y_pred=predicted_target_ridge))\n"
   ]
  }
 ],
 "metadata": {
  "kernelspec": {
   "display_name": "Python 3",
   "language": "python",
   "name": "python3"
  },
  "language_info": {
   "codemirror_mode": {
    "name": "ipython",
    "version": 3
   },
   "file_extension": ".py",
   "mimetype": "text/x-python",
   "name": "python",
   "nbconvert_exporter": "python",
   "pygments_lexer": "ipython3",
   "version": "3.6.0"
  }
 },
 "nbformat": 4,
 "nbformat_minor": 2
}
