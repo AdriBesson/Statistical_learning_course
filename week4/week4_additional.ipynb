{
 "cells": [
  {
   "cell_type": "markdown",
   "metadata": {},
   "source": [
    "# EPFL - Statistical learning (MATH-412) - Week 4\n",
    "## Model selection methods - Bonus"
   ]
  },
  {
   "cell_type": "markdown",
   "metadata": {},
   "source": [
    "As an additional exercise, we select the best models using AIC, BIC and Adjusted R2, following the algorithms described in Section 6.5 and 6.6 of ISL."
   ]
  },
  {
   "cell_type": "code",
   "execution_count": 1,
   "metadata": {
    "collapsed": true
   },
   "outputs": [],
   "source": [
    "import os\n",
    "import numpy as np\n",
    "import utils as ut\n",
    "import matplotlib.pyplot as plt\n",
    "import sklearn.linear_model as lm\n",
    "import csv"
   ]
  },
  {
   "cell_type": "markdown",
   "metadata": {},
   "source": [
    "We load the dataset as before:"
   ]
  },
  {
   "cell_type": "code",
   "execution_count": 3,
   "metadata": {
    "collapsed": true
   },
   "outputs": [],
   "source": [
    "# Load the dataset\n",
    "input_file = os.path.join(os.getcwd(), 'data', 'bodyfat.csv')\n",
    "file = open(input_file, 'rt')\n",
    "reader = csv.reader(file, delimiter=';')\n",
    "bodyfat = np.array([row for row in reader])\n",
    "\n",
    "# Extract the header\n",
    "header = bodyfat[0,:]\n",
    "\n",
    "# Remove rows 2 and 4\n",
    "col_to_del = [1, 3]\n",
    "bodyfat = np.delete(bodyfat[1:,:], col_to_del, axis=0)\n",
    "\n",
    "# Extract targets and features\n",
    "targets = bodyfat[:,0].astype(np.float64)\n",
    "features = np.array(bodyfat[:,1:]).T.astype(np.float64)"
   ]
  },
  {
   "cell_type": "markdown",
   "metadata": {},
   "source": [
    "Now we find the best models for $k=1,...,13$, absed on the RSS. Then, among the $13$ models, the best one is identified using AIC, BIC and adjusted R2"
   ]
  },
  {
   "cell_type": "code",
   "execution_count": 10,
   "metadata": {
    "collapsed": false
   },
   "outputs": [
    {
     "name": "stdout",
     "output_type": "stream",
     "text": [
      "Number of features - BIC: 3\n",
      "Number of features - AIC: 6\n",
      "Number of features - Adjuste R2: 8\n"
     ]
    }
   ],
   "source": [
    "# Linear model\n",
    "linear_model = lm.LinearRegression(fit_intercept=True, normalize=False, copy_X=True, n_jobs=6)\n",
    "\n",
    "# List of considered number of features\n",
    "list_n_features = np.arange(1, 13)\n",
    "\n",
    "# List of the score values\n",
    "aic = []\n",
    "bic = []\n",
    "adj_r2 = []\n",
    "# Forward stepwise selection - AIC\n",
    "for n_features in list_n_features:\n",
    "    best_model, best_model_features, min_score = ut.forward_selection_with_score(model=linear_model, n_features=n_features, features=features, targets=targets, score='AIC')\n",
    "    aic.append(min_score)\n",
    "selected_nb_features_aic = np.argmin(aic)\n",
    "\n",
    "# Forward stepwise selection - BIC\n",
    "for n_features in list_n_features:\n",
    "    best_model, best_model_features, min_score = ut.forward_selection_with_score(model=linear_model, n_features=n_features, features=features, targets=targets, score='BIC')\n",
    "    bic.append(min_score)\n",
    "selected_nb_features_bic = np.argmin(bic)\n",
    "\n",
    "# Forward stepwise selection - Ajusted R2\n",
    "for n_features in list_n_features:\n",
    "    best_model, best_model_features, min_score = ut.forward_selection_with_score(model=linear_model, n_features=n_features,\n",
    "                                                                      features=features, targets=targets,\n",
    "                                                                      score='Adj_R2')\n",
    "    adj_r2.append(min_score)\n",
    "selected_nb_features_r2 = np.argmax(adj_r2)\n",
    "\n",
    "print('Number of features - BIC: {}'.format(selected_nb_features_bic))\n",
    "print('Number of features - AIC: {}'.format(selected_nb_features_aic))\n",
    "print('Number of features - Adjuste R2: {}'.format(selected_nb_features_r2))"
   ]
  },
  {
   "cell_type": "code",
   "execution_count": 8,
   "metadata": {
    "collapsed": false
   },
   "outputs": [
    {
     "data": {
      "image/png": "[encoded data removed]",
      "text/plain": [
       "<matplotlib.figure.Figure at 0x7f163499bb38>"
      ]
     },
     "metadata": {},
     "output_type": "display_data"
    }
   ],
   "source": [
    "# Display the results\n",
    "f, (ax1, ax2, ax3) = plt.subplots(1, 3)\n",
    "ax1.plot(list_n_features, aic)\n",
    "ax1.scatter(list_n_features[selected_nb_features_aic], aic[selected_nb_features_aic])\n",
    "ax1.set_title('Forward stepwise selection with AIC')\n",
    "ax1.set_ylabel('AIC')\n",
    "ax1.set_xlabel('number of features')\n",
    "ax2.plot(list_n_features, bic)\n",
    "ax2.scatter(list_n_features[selected_nb_features_bic], bic[selected_nb_features_bic])\n",
    "ax2.set_title('Forward stepwise selection with BIC')\n",
    "ax2.set_ylabel('BIC')\n",
    "ax2.set_xlabel('number of features')\n",
    "ax3.plot(list_n_features, adj_r2)\n",
    "ax3.scatter(list_n_features[selected_nb_features_r2], adj_r2[selected_nb_features_r2])\n",
    "ax3.set_title('Forward stepwise selection with Adjusted R2')\n",
    "ax3.set_ylabel('Adjusted R2')\n",
    "ax3.set_xlabel('number of features')\n",
    "plt.show()"
   ]
  },
  {
   "cell_type": "markdown",
   "metadata": {},
   "source": [
    "As expected, BIC gives a lower number of features than AIC and Adjusted R2."
   ]
  }
 ],
 "metadata": {
  "kernelspec": {
   "display_name": "Python 3",
   "language": "python",
   "name": "python3"
  },
  "language_info": {
   "codemirror_mode": {
    "name": "ipython",
    "version": 3
   },
   "file_extension": ".py",
   "mimetype": "text/x-python",
   "name": "python",
   "nbconvert_exporter": "python",
   "pygments_lexer": "ipython3",
   "version": "3.6.0"
  }
 },
 "nbformat": 4,
 "nbformat_minor": 2
}
