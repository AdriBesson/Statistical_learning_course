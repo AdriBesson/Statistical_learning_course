{
 "cells": [
  {
   "cell_type": "markdown",
   "metadata": {},
   "source": [
    "# Project - Gender recognition by voice\n",
    "## EPFL - Statistical learning (MATH-412) \n",
    "## Adrien Besson"
   ]
  },
  {
   "cell_type": "markdown",
   "metadata": {},
   "source": [
    "### 3. Classification with 50/50 split of the dataset"
   ]
  },
  {
   "cell_type": "code",
   "execution_count": 1,
   "metadata": {
    "collapsed": true
   },
   "outputs": [],
   "source": [
    "# Import libraries\n",
    "%matplotlib inline\n",
    "import pandas as pd\n",
    "import numpy as np\n",
    "import matplotlib.pyplot as plt\n",
    "import sklearn.discriminant_analysis as lda\n",
    "import sklearn.linear_model as lm\n",
    "import sklearn.model_selection as model_selection\n",
    "import sklearn.preprocessing as preproc\n",
    "from sklearn import svm, tree, ensemble, neighbors, metrics\n",
    "import os"
   ]
  },
  {
   "cell_type": "code",
   "execution_count": 2,
   "metadata": {
    "collapsed": true
   },
   "outputs": [],
   "source": [
    "# Load the data\n",
    "input_file = os.path.join(os.getcwd(), 'data', 'voice.csv')\n",
    "data = pd.read_csv(input_file)\n",
    "data['label'] = data['label'].astype('category')"
   ]
  },
  {
   "cell_type": "code",
   "execution_count": 3,
   "metadata": {
    "collapsed": true
   },
   "outputs": [],
   "source": [
    "# Drop collinear columns\n",
    "cols_to_drop = ['IQR', 'dfrange', 'centroid']\n",
    "data = data.drop(cols_to_drop,axis=1)"
   ]
  },
  {
   "cell_type": "code",
   "execution_count": 4,
   "metadata": {
    "collapsed": true
   },
   "outputs": [],
   "source": [
    "# Assign quantitative values to the labels and drop them from the data\n",
    "encoder = preproc.LabelEncoder()\n",
    "labels = data['label'].values\n",
    "labels = encoder.fit_transform(labels)\n",
    "data = data.drop(['label'],axis=1)"
   ]
  },
  {
   "cell_type": "markdown",
   "metadata": {},
   "source": [
    "## Split the dataset into two subsets of equal size"
   ]
  },
  {
   "cell_type": "code",
   "execution_count": 67,
   "metadata": {
    "collapsed": true
   },
   "outputs": [],
   "source": [
    "# Scale the features to have mean 0 and variance 1\n",
    "seed = 3\n",
    "features = data.values\n",
    "features = preproc.scale(features)\n",
    "# Split our dataset into two subsets\n",
    "features_1, features_2, labels_1, labels_2 = model_selection.train_test_split(features, labels, train_size=0.5, test_size=0.5, random_state=seed)"
   ]
  },
  {
   "cell_type": "markdown",
   "metadata": {},
   "source": [
    "## Best parameter selection on a first subset"
   ]
  },
  {
   "cell_type": "code",
   "execution_count": 68,
   "metadata": {
    "collapsed": false
   },
   "outputs": [
    {
     "data": {
      "text/plain": [
       "GridSearchCV(cv=10, error_score='raise',\n",
       "       estimator=BaggingClassifier(base_estimator=None, bootstrap=True,\n",
       "         bootstrap_features=False, max_features=1.0, max_samples=1.0,\n",
       "         n_estimators=10, n_jobs=1, oob_score=False, random_state=3,\n",
       "         verbose=0, warm_start=False),\n",
       "       fit_params={}, iid=True, n_jobs=1,\n",
       "       param_grid=[{'n_estimators': [1, 5, 10, 50, 100, 200, 500]}],\n",
       "       pre_dispatch='2*n_jobs', refit=True, return_train_score=True,\n",
       "       scoring=None, verbose=0)"
      ]
     },
     "execution_count": 68,
     "metadata": {},
     "output_type": "execute_result"
    }
   ],
   "source": [
    "# k-NN classification\n",
    "param_grid = [\n",
    "  {'n_neighbors': np.arange(1, 20, 1)}\n",
    "] \n",
    "knn_grid = model_selection.GridSearchCV(estimator=neighbors.KNeighborsClassifier(), cv=10, param_grid=param_grid, n_jobs=-1)\n",
    "knn_grid.fit(X=features_1, y=labels_1)\n",
    "\n",
    "# Logistic regression with L2 regularization\n",
    "logistic_reg = lm.LogisticRegressionCV(penalty='l2', cv=10, solver='liblinear', random_state=seed)\n",
    "logistic_reg.fit(X=features_1, y=labels_1)\n",
    "\n",
    "# Logistic regression with L1 regularization\n",
    "logistic_reg_l1 = lm.LogisticRegressionCV(penalty='l1', cv=10, solver='liblinear', random_state=seed)\n",
    "logistic_reg_l1.fit(X=features_1, y=labels_1)\n",
    "\n",
    "# SVM classification - Linear kernel\n",
    "param_grid = [\n",
    "  {'C': [8, 9, 10 ,11 ,12], 'gamma':[0.2, 0.21, 0.22, 0.23, 0.24, 0.25]}\n",
    "]\n",
    "class_svm = svm.SVC(kernel='linear', random_state=seed)\n",
    "class_svm_grid = model_selection.GridSearchCV(estimator=class_svm, cv=10, param_grid=param_grid, n_jobs=-1)\n",
    "class_svm_grid.fit(X=features_1, y=labels_1)\n",
    "\n",
    "# SVM classification - RBF kernel\n",
    "param_grid = [\n",
    "  {'C': 2.0**(np.arange(-5, 15, 2)), 'gamma':[0.0001, 0.001, 0.01, 0.1, 0.2, 0.21, 0.22, 0.23, 0.24, 0.25], 'kernel':['rbf']}\n",
    "]\n",
    "class_svm_k = svm.SVC(random_state=seed)\n",
    "class_svm_k_grid = model_selection.GridSearchCV(estimator=class_svm_k, cv=10, param_grid=param_grid, n_jobs=-1)\n",
    "class_svm_k_grid.fit(X=features_1, y=labels_1)\n",
    "\n",
    "# Decision Tree\n",
    "param_grid = [\n",
    "  {'min_samples_leaf': [1, 5,10,50,100,200,500]}\n",
    "]\n",
    "dec_tree = tree.DecisionTreeClassifier(criterion='entropy', random_state=seed)\n",
    "dec_tree_grid = model_selection.GridSearchCV(estimator=dec_tree, cv=10, param_grid=param_grid, n_jobs=-1)\n",
    "dec_tree_grid.fit(X=features_1, y=labels_1)\n",
    "\n",
    "# Random Forest\n",
    "param_grid = [\n",
    "  {'min_samples_leaf': [1, 5,10,50,100,200,500]}\n",
    "]\n",
    "random_forest = ensemble.RandomForestClassifier(criterion='entropy', random_state=seed, n_jobs=-1)\n",
    "random_forest_grid = model_selection.GridSearchCV(estimator=random_forest, cv=10, param_grid=param_grid, n_jobs=-1)\n",
    "random_forest_grid.fit(X=features_1, y=labels_1)\n",
    "\n",
    "# AdaBoost\n",
    "param_grid = [\n",
    "  {'n_estimators': [1, 5,10,50,100,200,500], 'learning_rate':[1e-3, 1e-2, 1e-1, 1, 10]}\n",
    "]\n",
    "ada_boost = ensemble.AdaBoostClassifier(random_state=seed)\n",
    "ada_boost_grid = model_selection.GridSearchCV(estimator=ada_boost, cv=10, param_grid=param_grid)\n",
    "ada_boost_grid.fit(X=features_1, y=labels_1)\n",
    "\n",
    "# Grad boost\n",
    "param_grid = [\n",
    "  {'n_estimators': [1, 5,10,50,100,200,500], 'learning_rate':[1e-3, 1e-2, 1e-1, 1, 10], 'min_samples_leaf': [1, 5,10,50,100,200,500]}\n",
    "]\n",
    "g_boost = ensemble.GradientBoostingClassifier(random_state=seed)\n",
    "g_boost_grid = model_selection.GridSearchCV(estimator=g_boost, cv=10, param_grid=param_grid)\n",
    "g_boost_grid.fit(X=features_1, y=labels_1)\n",
    "\n",
    "# Bagging\n",
    "param_grid = [\n",
    "  {'n_estimators': [1, 5,10,50,100,200,500]}\n",
    "]\n",
    "bagging = ensemble.BaggingClassifier(random_state=seed)\n",
    "bagging_grid = model_selection.GridSearchCV(estimator=bagging, cv=10, param_grid=param_grid)\n",
    "bagging_grid.fit(X=features_1, y=labels_1)\n"
   ]
  },
  {
   "cell_type": "markdown",
   "metadata": {},
   "source": [
    "## Comparison of the models on a second subset using 5-fold CV"
   ]
  },
  {
   "cell_type": "markdown",
   "metadata": {},
   "source": [
    "## k-NN"
   ]
  },
  {
   "cell_type": "markdown",
   "metadata": {},
   "source": [
    "## LDA/QDA "
   ]
  },
  {
   "cell_type": "code",
   "execution_count": 69,
   "metadata": {
    "collapsed": false
   },
   "outputs": [
    {
     "name": "stdout",
     "output_type": "stream",
     "text": [
      "Classification loss - LDA: 3.3456731151978447 %\n"
     ]
    }
   ],
   "source": [
    "lda_class = lda.LinearDiscriminantAnalysis()\n",
    "class_score_lda = np.mean(model_selection.cross_val_score(estimator=lda_class, X=features_2, y=labels_2, cv=5))\n",
    "print('Classification loss - LDA: {0} %'.format((1-class_score_lda)*100))"
   ]
  },
  {
   "cell_type": "code",
   "execution_count": 70,
   "metadata": {
    "collapsed": false
   },
   "outputs": [
    {
     "name": "stdout",
     "output_type": "stream",
     "text": [
      "Classification loss - QDA: 3.597643499721348 %\n"
     ]
    }
   ],
   "source": [
    "qda_class = lda.QuadraticDiscriminantAnalysis()\n",
    "class_score_qda = np.mean(model_selection.cross_val_score(estimator=qda_class, X=features_2, y=labels_2, cv=5))\n",
    "print('Classification loss - QDA: {0} %'.format((1-class_score_qda)*100))"
   ]
  },
  {
   "cell_type": "markdown",
   "metadata": {},
   "source": [
    "## Logistic regression"
   ]
  },
  {
   "cell_type": "code",
   "execution_count": 71,
   "metadata": {
    "collapsed": false
   },
   "outputs": [
    {
     "name": "stdout",
     "output_type": "stream",
     "text": [
      "Classification loss - Logistic : 3.156993869914815 %\n"
     ]
    }
   ],
   "source": [
    "# Logistic regression\n",
    "logistic = lm.LogisticRegression(penalty='l2', solver='liblinear', random_state=seed)\n",
    "logistic.set_params(C=1e9)\n",
    "class_score_l2 = np.mean(model_selection.cross_val_score(estimator=logistic, X=features_2, y=labels_2, cv=5))\n",
    "print('Classification loss - Logistic : {0} %'.format((1-class_score_l2)*100))"
   ]
  },
  {
   "cell_type": "markdown",
   "metadata": {},
   "source": [
    "## Logistic regression - Ridge"
   ]
  },
  {
   "cell_type": "code",
   "execution_count": 72,
   "metadata": {
    "collapsed": false
   },
   "outputs": [
    {
     "name": "stdout",
     "output_type": "stream",
     "text": [
      "Classification loss - Logistic Ridge: 3.2827800334368162 %\n"
     ]
    }
   ],
   "source": [
    "class_score_reg_l2 = np.mean(model_selection.cross_val_score(estimator=logistic_reg, X=features_2, y=labels_2, cv=5))\n",
    "print('Classification loss - Logistic Ridge: {0} %'.format((1-class_score_reg_l2)*100))"
   ]
  },
  {
   "cell_type": "markdown",
   "metadata": {},
   "source": [
    "## Logistic regression - LASSO"
   ]
  },
  {
   "cell_type": "code",
   "execution_count": 73,
   "metadata": {
    "collapsed": false
   },
   "outputs": [
    {
     "name": "stdout",
     "output_type": "stream",
     "text": [
      "Classification loss - Logistic LASSO: 3.092906615715285\n"
     ]
    }
   ],
   "source": [
    "class_score_reg_l1 = np.mean(model_selection.cross_val_score(estimator=logistic_reg_l1, X=features_2, y=labels_2, cv=5))\n",
    "print('Classification loss - Logistic LASSO: {0}'.format((1-class_score_reg_l1)*100))"
   ]
  },
  {
   "cell_type": "markdown",
   "metadata": {},
   "source": [
    "## Linear SVM "
   ]
  },
  {
   "cell_type": "code",
   "execution_count": 74,
   "metadata": {
    "collapsed": false
   },
   "outputs": [
    {
     "name": "stdout",
     "output_type": "stream",
     "text": [
      "Classification loss - linear SVM: 3.0304115914338015 %\n"
     ]
    }
   ],
   "source": [
    "score_svm = np.mean(model_selection.cross_val_score(estimator=class_svm_grid.best_estimator_, X=features_2, y=labels_2, cv=5))\n",
    "print('Classification loss - linear SVM: {0} %'.format((1-score_svm)*100))"
   ]
  },
  {
   "cell_type": "markdown",
   "metadata": {},
   "source": [
    "## Kernel SVM - RBF"
   ]
  },
  {
   "cell_type": "code",
   "execution_count": 75,
   "metadata": {
    "collapsed": false
   },
   "outputs": [
    {
     "name": "stdout",
     "output_type": "stream",
     "text": [
      "Classification loss - kernel SVM - L2: 1.9580447416606916 %\n"
     ]
    }
   ],
   "source": [
    "score_svm_k = np.mean(model_selection.cross_val_score(estimator=class_svm_k_grid.best_estimator_, X=features_2, y=labels_2, cv=5))\n",
    "print('Classification loss - kernel SVM - L2: {0} %'.format((1-score_svm_k)*100))"
   ]
  },
  {
   "cell_type": "markdown",
   "metadata": {},
   "source": [
    "## Decision Tree"
   ]
  },
  {
   "cell_type": "code",
   "execution_count": 76,
   "metadata": {
    "collapsed": false
   },
   "outputs": [
    {
     "name": "stdout",
     "output_type": "stream",
     "text": [
      "Classification loss - Decision tree: 4.041079531884395 %\n"
     ]
    }
   ],
   "source": [
    "score_tree = np.mean(model_selection.cross_val_score(estimator=dec_tree_grid.best_estimator_, X=features_2, y=labels_2, cv=5))\n",
    "print('Classification loss - Decision tree: {0} %'.format((1-score_tree)*100))"
   ]
  },
  {
   "cell_type": "code",
   "execution_count": 77,
   "metadata": {
    "collapsed": false
   },
   "outputs": [
    {
     "name": "stdout",
     "output_type": "stream",
     "text": [
      "Feature: meanfun - Importance: 79.4 %\n",
      "Feature: Q25 - Importance: 6.7 %\n",
      "Feature: meandom - Importance: 3.0 %\n",
      "Feature: Q75 - Importance: 2.8000000000000003 %\n",
      "Feature: sd - Importance: 2.0 %\n",
      "Feature: meanfreq - Importance: 1.0 %\n",
      "Feature: skew - Importance: 0.8 %\n",
      "Feature: maxdom - Importance: 0.8 %\n",
      "Feature: mode - Importance: 0.8 %\n",
      "Feature: minfun - Importance: 0.8 %\n",
      "Feature: kurt - Importance: 0.6 %\n",
      "Feature: median - Importance: 0.5 %\n",
      "Feature: sfm - Importance: 0.5 %\n",
      "Feature: sp.ent - Importance: 0.4 %\n",
      "Feature: maxfun - Importance: 0.0 %\n",
      "Feature: mindom - Importance: 0.0 %\n",
      "Feature: modindx - Importance: 0.0 %\n"
     ]
    }
   ],
   "source": [
    "# Feature importance\n",
    "ind = np.argsort(dec_tree_grid.best_estimator_.feature_importances_)[::-1]\n",
    "for name, importance in zip(data.columns[ind], dec_tree_grid.best_estimator_.feature_importances_[ind]):\n",
    "    print('Feature: {0} - Importance: {1} %'.format(name, np.around(importance, 3)*100))"
   ]
  },
  {
   "cell_type": "markdown",
   "metadata": {},
   "source": [
    "## Random Forest"
   ]
  },
  {
   "cell_type": "code",
   "execution_count": 78,
   "metadata": {
    "collapsed": false
   },
   "outputs": [
    {
     "name": "stdout",
     "output_type": "stream",
     "text": [
      "Classification loss - Random forest: 3.284372263354829 %\n"
     ]
    }
   ],
   "source": [
    "score_rf = np.mean(model_selection.cross_val_score(estimator=random_forest_grid.best_estimator_, X=features_2, y=labels_2, cv=5))\n",
    "print('Classification loss - Random forest: {0} %'.format((1-score_rf)*100))"
   ]
  },
  {
   "cell_type": "code",
   "execution_count": 79,
   "metadata": {
    "collapsed": false
   },
   "outputs": [
    {
     "name": "stdout",
     "output_type": "stream",
     "text": [
      "Feature: meanfun - Importance: 37.0 %\n",
      "Feature: Q25 - Importance: 26.6 %\n",
      "Feature: sd - Importance: 10.7 %\n",
      "Feature: sp.ent - Importance: 4.5 %\n",
      "Feature: sfm - Importance: 2.9000000000000004 %\n",
      "Feature: mode - Importance: 2.6 %\n",
      "Feature: skew - Importance: 2.3 %\n",
      "Feature: Q75 - Importance: 2.0 %\n",
      "Feature: meanfreq - Importance: 2.0 %\n",
      "Feature: median - Importance: 1.7000000000000002 %\n",
      "Feature: kurt - Importance: 1.6 %\n",
      "Feature: maxdom - Importance: 1.5 %\n",
      "Feature: meandom - Importance: 1.4000000000000001 %\n",
      "Feature: mindom - Importance: 1.2 %\n",
      "Feature: modindx - Importance: 0.8 %\n",
      "Feature: minfun - Importance: 0.8 %\n",
      "Feature: maxfun - Importance: 0.5 %\n"
     ]
    }
   ],
   "source": [
    "# Feature importance\n",
    "ind = np.argsort(random_forest_grid.best_estimator_.feature_importances_)[::-1]\n",
    "for name, importance in zip(data.columns[ind], random_forest_grid.best_estimator_.feature_importances_[ind]):\n",
    "    print('Feature: {0} - Importance: {1} %'.format(name, np.around(importance, 3)*100))"
   ]
  },
  {
   "cell_type": "markdown",
   "metadata": {},
   "source": [
    "## AdaBoost "
   ]
  },
  {
   "cell_type": "code",
   "execution_count": 80,
   "metadata": {
    "collapsed": false
   },
   "outputs": [
    {
     "name": "stdout",
     "output_type": "stream",
     "text": [
      "Classification loss - AdaBoost: 2.463179683146244 %\n"
     ]
    }
   ],
   "source": [
    "score_ab = np.mean(model_selection.cross_val_score(estimator=ada_boost_grid.best_estimator_, X=features_2, y=labels_2, cv=5))\n",
    "print('Classification loss - AdaBoost: {0} %'.format((1-score_ab)*100))"
   ]
  },
  {
   "cell_type": "markdown",
   "metadata": {},
   "source": [
    "## Gradient Boosting"
   ]
  },
  {
   "cell_type": "code",
   "execution_count": 81,
   "metadata": {
    "collapsed": false
   },
   "outputs": [
    {
     "name": "stdout",
     "output_type": "stream",
     "text": [
      "Classification loss - Gradient Boosting: 2.4010827163442494 %\n"
     ]
    }
   ],
   "source": [
    "score_gb = np.mean(model_selection.cross_val_score(estimator=g_boost_grid.best_estimator_, X=features_2, y=labels_2, cv=5))\n",
    "print('Classification loss - Gradient Boosting: {0} %'.format((1-score_gb)*100))"
   ]
  },
  {
   "cell_type": "markdown",
   "metadata": {},
   "source": [
    "## Bagging"
   ]
  },
  {
   "cell_type": "code",
   "execution_count": 82,
   "metadata": {
    "collapsed": false
   },
   "outputs": [
    {
     "name": "stdout",
     "output_type": "stream",
     "text": [
      "Classification loss - Bagging: 3.409760369397341 %\n"
     ]
    }
   ],
   "source": [
    "score_bag = np.mean(model_selection.cross_val_score(estimator=bagging_grid.best_estimator_, X=features_2, y=labels_2, cv=5))\n",
    "print('Classification loss - Bagging: {0} %'.format((1-score_bag)*100))"
   ]
  },
  {
   "cell_type": "markdown",
   "metadata": {},
   "source": [
    "## ROC curves of different classifiers"
   ]
  },
  {
   "cell_type": "code",
   "execution_count": 87,
   "metadata": {
    "collapsed": false
   },
   "outputs": [
    {
     "data": {
      "image/png": "[encoded data removed]",
      "text/plain": [
       "<matplotlib.figure.Figure at 0x7f6569b75be0>"
      ]
     },
     "metadata": {},
     "output_type": "display_data"
    },
    {
     "data": {
      "image/png": "[encoded data removed]",
      "text/plain": [
       "<matplotlib.figure.Figure at 0x7f6562f9f0b8>"
      ]
     },
     "metadata": {},
     "output_type": "display_data"
    }
   ],
   "source": [
    "# Split the second set into 5 folds\n",
    "kf = model_selection.KFold(n_splits=5)\n",
    "fpr_kfold = np.zeros(3)\n",
    "tpr_kfold = np.zeros(3)\n",
    "fpr_svm_kfold = np.zeros(3)\n",
    "tpr_svm_kfold = np.zeros(3)\n",
    "fpr_lda_kfold = np.zeros(3)\n",
    "tpr_lda_kfold = np.zeros(3)\n",
    "fpr_knn_kfold = np.zeros(3)\n",
    "tpr_knn_kfold = np.zeros(3)\n",
    "auc = 0\n",
    "auc_svm = 0\n",
    "auc_lda = 0\n",
    "auc_knn = 0\n",
    "# Loop over the folds\n",
    "for train_index, test_index in kf.split(features_2):\n",
    "    # Gradient boosting classifier\n",
    "    fpr, tpr, thresh = metrics.roc_curve(y_true=labels_2[test_index], y_score=g_boost_grid.best_estimator_.predict(X=features_2[test_index]))\n",
    "    auc += metrics.auc(fpr, tpr) /5\n",
    "    fpr_kfold += fpr / 5\n",
    "    tpr_kfold += tpr / 5\n",
    "    \n",
    "    # Kernel SVM\n",
    "    fpr_svm, tpr_svm, thresh = metrics.roc_curve(y_true=labels_2[test_index], y_score=class_svm_k_grid.best_estimator_.predict(X=features_2[test_index]))\n",
    "    auc_svm += metrics.auc(fpr_svm, tpr_svm) / 5\n",
    "    fpr_svm_kfold += fpr_svm / 5\n",
    "    tpr_svm_kfold += tpr_svm / 5\n",
    "    \n",
    "    # LDA\n",
    "    lda_class.fit(X=features_2, y=labels_2)\n",
    "    fpr_lda, tpr_lda, thresh = metrics.roc_curve(y_true=labels_2[test_index], y_score=lda_class.predict(X=features_2[test_index]))\n",
    "    auc_lda += metrics.auc(fpr_lda, tpr_lda) / 5\n",
    "    fpr_lda_kfold += fpr_lda / 5\n",
    "    tpr_lda_kfold += tpr_lda / 5\n",
    "    \n",
    "    # kNN\n",
    "    fpr_knn, tpr_knn, thresh = metrics.roc_curve(y_true=labels_2[test_index], y_score=knn_grid.best_estimator_.predict(X=features_2[test_index]))\n",
    "    auc_knn += metrics.auc(fpr_knn, tpr_knn) / 5\n",
    "    fpr_knn_kfold += fpr_knn / 5\n",
    "    tpr_knn_kfold += tpr_knn / 5\n",
    "\n",
    "a = plt.figure(1)\n",
    "lw = 2\n",
    "plt.plot(fpr_kfold, tpr_kfold, color='darkorange',\n",
    "         lw=lw, label='XGBoost - AUC = %0.2f' % auc)\n",
    "plt.plot(fpr_svm_kfold, tpr_svm_kfold, color='green',\n",
    "         lw=lw, label='Kernel SVM - AUC = %0.2f' % auc_svm)\n",
    "plt.plot(fpr_lda_kfold, tpr_lda_kfold, color='blue',\n",
    "         lw=lw, label='LDA - AUC = %0.2f' % auc_lda)\n",
    "plt.plot(fpr_knn_kfold, tpr_knn_kfold, color='black',\n",
    "         lw=lw, label='kNN - AUC = %0.2f' % auc_knn)\n",
    "plt.plot([0, 1], [0, 1], color='navy', lw=lw, linestyle='--')\n",
    "plt.xlim([0.0, 1.0])\n",
    "plt.ylim([0.0, 1.05])\n",
    "plt.xlabel('False Positive Rate')\n",
    "plt.ylabel('True Positive Rate')\n",
    "plt.legend(loc='lower right')\n",
    "plt.show()\n",
    "a.savefig('ROC_generic.pdf')\n",
    "\n",
    "b = plt.figure(2)\n",
    "lw = 2\n",
    "plt.plot(fpr_kfold, tpr_kfold, color='darkorange',\n",
    "         lw=lw, label='XGBoost - AUC = %0.2f' % auc)\n",
    "plt.plot(fpr_svm_kfold, tpr_svm_kfold, color='green',\n",
    "         lw=lw, label='Kernel SVM - AUC = %0.2f' % auc_svm)\n",
    "plt.plot(fpr_lda_kfold, tpr_lda_kfold, color='blue',\n",
    "         lw=lw, label='LDA - AUC = %0.2f' % auc_lda)\n",
    "plt.plot(fpr_knn_kfold, tpr_knn_kfold, color='black',\n",
    "         lw=lw, label='kNN - AUC = %0.2f' % auc_knn)\n",
    "plt.plot([0, 1], [0, 1], color='navy', lw=lw, linestyle='--')\n",
    "plt.xlim(0, 0.2)\n",
    "plt.ylim(0.9, 1)\n",
    "plt.xlabel('False positive rate')\n",
    "plt.ylabel('True positive rate')\n",
    "plt.legend(loc='lower right')\n",
    "plt.show()\n",
    "b.savefig('ROC_zoom.pdf')"
   ]
  },
  {
   "cell_type": "markdown",
   "metadata": {
    "collapsed": true
   },
   "source": [
    "## Conclusions\n",
    " 1. Gradient boosting gives the best results. It is slightly better than kernel SVM.\n",
    " 1. With the 50/50 split strategy, the variance of the test error is reduced compared to the 80/20 split approach. But the variance is still quite high. It could be reduced by increasing the number of folds. Given the size of the datasets, it would lead to too much bias."
   ]
  },
  {
   "cell_type": "code",
   "execution_count": null,
   "metadata": {
    "collapsed": true
   },
   "outputs": [],
   "source": []
  }
 ],
 "metadata": {
  "kernelspec": {
   "display_name": "Python 3",
   "language": "python",
   "name": "python3"
  },
  "language_info": {
   "codemirror_mode": {
    "name": "ipython",
    "version": 3
   },
   "file_extension": ".py",
   "mimetype": "text/x-python",
   "name": "python",
   "nbconvert_exporter": "python",
   "pygments_lexer": "ipython3",
   "version": "3.6.0"
  }
 },
 "nbformat": 4,
 "nbformat_minor": 2
}
