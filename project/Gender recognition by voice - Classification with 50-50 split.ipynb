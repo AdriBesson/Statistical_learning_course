{
 "cells": [
  {
   "cell_type": "markdown",
   "metadata": {},
   "source": [
    "# Project - Gender recognition by voice\n",
    "## EPFL - Statistical learning (MATH-412) \n",
    "## Adrien Besson"
   ]
  },
  {
   "cell_type": "markdown",
   "metadata": {},
   "source": [
    "### 3. Classification with 50/50 split of the dataset"
   ]
  },
  {
   "cell_type": "code",
   "execution_count": 3,
   "metadata": {
    "collapsed": true
   },
   "outputs": [],
   "source": [
    "# Import libraries\n",
    "%matplotlib inline\n",
    "import pandas as pd\n",
    "import numpy as np\n",
    "import matplotlib.pyplot as plt\n",
    "import sklearn.discriminant_analysis as lda\n",
    "import sklearn.linear_model as lm\n",
    "import sklearn.model_selection as model_selection\n",
    "import sklearn.preprocessing as preproc\n",
    "from sklearn import svm, tree, ensemble, neighbors, metrics\n",
    "import os"
   ]
  },
  {
   "cell_type": "code",
   "execution_count": 4,
   "metadata": {
    "collapsed": true
   },
   "outputs": [],
   "source": [
    "# Load the data\n",
    "input_file = os.path.join(os.getcwd(), 'data', 'voice.csv')\n",
    "data = pd.read_csv(input_file)\n",
    "data['label'] = data['label'].astype('category')"
   ]
  },
  {
   "cell_type": "code",
   "execution_count": 5,
   "metadata": {
    "collapsed": true
   },
   "outputs": [],
   "source": [
    "# Drop collinear columns\n",
    "cols_to_drop = ['IQR', 'dfrange', 'centroid']\n",
    "data = data.drop(cols_to_drop,axis=1)"
   ]
  },
  {
   "cell_type": "code",
   "execution_count": 6,
   "metadata": {
    "collapsed": true
   },
   "outputs": [],
   "source": [
    "# Assign quantitative values to the labels and drop them from the data\n",
    "encoder = preproc.LabelEncoder()\n",
    "labels = data['label'].values\n",
    "labels = encoder.fit_transform(labels)\n",
    "data = data.drop(['label'],axis=1)"
   ]
  },
  {
   "cell_type": "markdown",
   "metadata": {},
   "source": [
    "## Split the dataset into two subsets of equal size"
   ]
  },
  {
   "cell_type": "code",
   "execution_count": 31,
   "metadata": {
    "collapsed": true
   },
   "outputs": [],
   "source": [
    "# Scale the features to have mean 0 and variance 1\n",
    "seed = 1\n",
    "features = data.values\n",
    "features = preproc.scale(features)\n",
    "# Split our dataset into two subsets\n",
    "features_1, features_2, labels_1, labels_2 = model_selection.train_test_split(features, labels, train_size=0.5, test_size=0.5, random_state=seed)"
   ]
  },
  {
   "cell_type": "markdown",
   "metadata": {},
   "source": [
    "## Best parameter selection on a first subset"
   ]
  },
  {
   "cell_type": "code",
   "execution_count": 32,
   "metadata": {},
   "outputs": [
    {
     "data": {
      "text/plain": [
       "GridSearchCV(cv=10, error_score='raise',\n",
       "       estimator=BaggingClassifier(base_estimator=None, bootstrap=True,\n",
       "         bootstrap_features=False, max_features=1.0, max_samples=1.0,\n",
       "         n_estimators=10, n_jobs=1, oob_score=False, random_state=1,\n",
       "         verbose=0, warm_start=False),\n",
       "       fit_params={}, iid=True, n_jobs=1,\n",
       "       param_grid=[{'n_estimators': [1, 5, 10, 50, 100, 200, 500]}],\n",
       "       pre_dispatch='2*n_jobs', refit=True, return_train_score=True,\n",
       "       scoring=None, verbose=0)"
      ]
     },
     "execution_count": 32,
     "metadata": {},
     "output_type": "execute_result"
    }
   ],
   "source": [
    "# k-NN classification\n",
    "param_grid = [\n",
    "  {'n_neighbors': np.arange(1, 20, 1)}\n",
    "] \n",
    "knn_grid = model_selection.GridSearchCV(estimator=neighbors.KNeighborsClassifier(), cv=10, param_grid=param_grid, n_jobs=-1)\n",
    "knn_grid.fit(X=features_1, y=labels_1)\n",
    "\n",
    "# Logistic regression with L2 regularization\n",
    "logistic_reg = lm.LogisticRegressionCV(penalty='l2', cv=10, solver='liblinear', random_state=seed)\n",
    "logistic_reg.fit(X=features_1, y=labels_1)\n",
    "\n",
    "# Logistic regression with L1 regularization\n",
    "logistic_reg_l1 = lm.LogisticRegressionCV(penalty='l1', cv=10, solver='liblinear', random_state=seed)\n",
    "logistic_reg_l1.fit(X=features_1, y=labels_1)\n",
    "\n",
    "# SVM classification - Linear kernel\n",
    "param_grid = [\n",
    "  {'C': [8, 9, 10 ,11 ,12], 'gamma':[0.2, 0.21, 0.22, 0.23, 0.24, 0.25]}\n",
    "]\n",
    "class_svm = svm.SVC(kernel='linear', random_state=seed)\n",
    "class_svm_grid = model_selection.GridSearchCV(estimator=class_svm, cv=10, param_grid=param_grid, n_jobs=-1)\n",
    "class_svm_grid.fit(X=features_1, y=labels_1)\n",
    "\n",
    "# SVM classification - RBF kernel\n",
    "param_grid = [\n",
    "  {'C': 2.0**(np.arange(-5, 15, 2)), 'gamma':[0.0001, 0.001, 0.01, 0.1, 0.2, 0.21, 0.22, 0.23, 0.24, 0.25], 'kernel':['rbf']}\n",
    "]\n",
    "class_svm_k = svm.SVC(random_state=seed)\n",
    "class_svm_k_grid = model_selection.GridSearchCV(estimator=class_svm_k, cv=10, param_grid=param_grid, n_jobs=-1)\n",
    "class_svm_k_grid.fit(X=features_1, y=labels_1)\n",
    "\n",
    "# Decision Tree\n",
    "param_grid = [\n",
    "  {'min_samples_leaf': [1, 5,10,50,100,200,500]}\n",
    "]\n",
    "dec_tree = tree.DecisionTreeClassifier(criterion='entropy', random_state=seed)\n",
    "dec_tree_grid = model_selection.GridSearchCV(estimator=dec_tree, cv=10, param_grid=param_grid, n_jobs=-1)\n",
    "dec_tree_grid.fit(X=features_1, y=labels_1)\n",
    "\n",
    "# Random Forest\n",
    "param_grid = [\n",
    "  {'min_samples_leaf': [1, 5,10,50,100,200,500]}\n",
    "]\n",
    "random_forest = ensemble.RandomForestClassifier(criterion='entropy', random_state=seed, n_jobs=-1)\n",
    "random_forest_grid = model_selection.GridSearchCV(estimator=random_forest, cv=10, param_grid=param_grid, n_jobs=-1)\n",
    "random_forest_grid.fit(X=features_1, y=labels_1)\n",
    "\n",
    "# AdaBoost\n",
    "param_grid = [\n",
    "  {'n_estimators': [1, 5,10,50,100,200,500], 'learning_rate':[1e-3, 1e-2, 1e-1, 1, 10]}\n",
    "]\n",
    "ada_boost = ensemble.AdaBoostClassifier(random_state=seed)\n",
    "ada_boost_grid = model_selection.GridSearchCV(estimator=ada_boost, cv=10, param_grid=param_grid)\n",
    "ada_boost_grid.fit(X=features_1, y=labels_1)\n",
    "\n",
    "# Grad boost\n",
    "param_grid = [\n",
    "  {'n_estimators': [1, 5,10,50,100,200,500], 'learning_rate':[1e-3, 1e-2, 1e-1, 1, 10], 'min_samples_leaf': [1, 5,10,50,100,200,500]}\n",
    "]\n",
    "g_boost = ensemble.GradientBoostingClassifier(random_state=seed)\n",
    "g_boost_grid = model_selection.GridSearchCV(estimator=g_boost, cv=10, param_grid=param_grid)\n",
    "g_boost_grid.fit(X=features_1, y=labels_1)\n",
    "\n",
    "# Bagging\n",
    "param_grid = [\n",
    "  {'n_estimators': [1, 5,10,50,100,200,500]}\n",
    "]\n",
    "bagging = ensemble.BaggingClassifier(random_state=seed)\n",
    "bagging_grid = model_selection.GridSearchCV(estimator=bagging, cv=10, param_grid=param_grid)\n",
    "bagging_grid.fit(X=features_1, y=labels_1)\n"
   ]
  },
  {
   "cell_type": "markdown",
   "metadata": {},
   "source": [
    "## Comparison of the models on a second subset using 5-fold CV"
   ]
  },
  {
   "cell_type": "markdown",
   "metadata": {},
   "source": [
    "## k-NN"
   ]
  },
  {
   "cell_type": "markdown",
   "metadata": {},
   "source": [
    "## LDA/QDA "
   ]
  },
  {
   "cell_type": "code",
   "execution_count": 33,
   "metadata": {},
   "outputs": [
    {
     "name": "stdout",
     "output_type": "stream",
     "text": [
      "Classification loss - LDA: 3.1563710418080815 %\n"
     ]
    }
   ],
   "source": [
    "lda_class = lda.LinearDiscriminantAnalysis()\n",
    "class_score_lda = np.mean(model_selection.cross_val_score(estimator=lda_class, X=features_2, y=labels_2, cv=5))\n",
    "print('Classification loss - LDA: {0} %'.format((1-class_score_lda)*100))"
   ]
  },
  {
   "cell_type": "code",
   "execution_count": 34,
   "metadata": {},
   "outputs": [
    {
     "name": "stdout",
     "output_type": "stream",
     "text": [
      "Classification loss - QDA: 3.787685181487832 %\n"
     ]
    }
   ],
   "source": [
    "qda_class = lda.QuadraticDiscriminantAnalysis()\n",
    "class_score_qda = np.mean(model_selection.cross_val_score(estimator=qda_class, X=features_2, y=labels_2, cv=5))\n",
    "print('Classification loss - QDA: {0} %'.format((1-class_score_qda)*100))"
   ]
  },
  {
   "cell_type": "markdown",
   "metadata": {},
   "source": [
    "## Logistic regression"
   ]
  },
  {
   "cell_type": "code",
   "execution_count": 35,
   "metadata": {},
   "outputs": [
    {
     "name": "stdout",
     "output_type": "stream",
     "text": [
      "Classification loss - Logistic : 3.0932795591582463 %\n"
     ]
    }
   ],
   "source": [
    "# Logistic regression\n",
    "logistic = lm.LogisticRegression(penalty='l2', solver='liblinear', random_state=seed)\n",
    "logistic.set_params(C=1e9)\n",
    "class_score_l2 = np.mean(model_selection.cross_val_score(estimator=logistic, X=features_2, y=labels_2, cv=5))\n",
    "print('Classification loss - Logistic : {0} %'.format((1-class_score_l2)*100))"
   ]
  },
  {
   "cell_type": "markdown",
   "metadata": {},
   "source": [
    "## Logistic regression - Ridge"
   ]
  },
  {
   "cell_type": "code",
   "execution_count": 36,
   "metadata": {},
   "outputs": [
    {
     "name": "stdout",
     "output_type": "stream",
     "text": [
      "Classification loss - Logistic Ridge: 2.9670965938585647 %\n"
     ]
    }
   ],
   "source": [
    "class_score_reg_l2 = np.mean(model_selection.cross_val_score(estimator=logistic_reg, X=features_2, y=labels_2, cv=5))\n",
    "print('Classification loss - Logistic Ridge: {0} %'.format((1-class_score_reg_l2)*100))"
   ]
  },
  {
   "cell_type": "markdown",
   "metadata": {},
   "source": [
    "## Logistic regression - LASSO"
   ]
  },
  {
   "cell_type": "code",
   "execution_count": 37,
   "metadata": {},
   "outputs": [
    {
     "name": "stdout",
     "output_type": "stream",
     "text": [
      "Classification loss - Logistic LASSO: 2.90420476779939\n"
     ]
    }
   ],
   "source": [
    "class_score_reg_l1 = np.mean(model_selection.cross_val_score(estimator=logistic_reg_l1, X=features_2, y=labels_2, cv=5))\n",
    "print('Classification loss - Logistic LASSO: {0}'.format((1-class_score_reg_l1)*100))"
   ]
  },
  {
   "cell_type": "markdown",
   "metadata": {},
   "source": [
    "## Linear SVM "
   ]
  },
  {
   "cell_type": "code",
   "execution_count": 38,
   "metadata": {},
   "outputs": [
    {
     "name": "stdout",
     "output_type": "stream",
     "text": [
      "Classification loss - linear SVM: 3.2192628678672675 %\n"
     ]
    }
   ],
   "source": [
    "score_svm = np.mean(model_selection.cross_val_score(estimator=class_svm_grid.best_estimator_, X=features_2, y=labels_2, cv=5))\n",
    "print('Classification loss - linear SVM: {0} %'.format((1-score_svm)*100))"
   ]
  },
  {
   "cell_type": "markdown",
   "metadata": {},
   "source": [
    "## Kernel SVM - RBF"
   ]
  },
  {
   "cell_type": "code",
   "execution_count": 39,
   "metadata": {},
   "outputs": [
    {
     "name": "stdout",
     "output_type": "stream",
     "text": [
      "Classification loss - kernel SVM - L2: 2.1467076628199466 %\n"
     ]
    }
   ],
   "source": [
    "score_svm_k = np.mean(model_selection.cross_val_score(estimator=class_svm_k_grid.best_estimator_, X=features_2, y=labels_2, cv=5))\n",
    "print('Classification loss - kernel SVM - L2: {0} %'.format((1-score_svm_k)*100))"
   ]
  },
  {
   "cell_type": "markdown",
   "metadata": {},
   "source": [
    "## Decision Tree"
   ]
  },
  {
   "cell_type": "code",
   "execution_count": 40,
   "metadata": {},
   "outputs": [
    {
     "name": "stdout",
     "output_type": "stream",
     "text": [
      "Classification loss - Decision tree: 4.166633390568231 %\n"
     ]
    }
   ],
   "source": [
    "score_tree = np.mean(model_selection.cross_val_score(estimator=dec_tree_grid.best_estimator_, X=features_2, y=labels_2, cv=5))\n",
    "print('Classification loss - Decision tree: {0} %'.format((1-score_tree)*100))"
   ]
  },
  {
   "cell_type": "code",
   "execution_count": 41,
   "metadata": {},
   "outputs": [
    {
     "name": "stdout",
     "output_type": "stream",
     "text": [
      "Feature: meanfun - Importance: 86.7 %\n",
      "Feature: Q75 - Importance: 3.1 %\n",
      "Feature: Q25 - Importance: 2.4 %\n",
      "Feature: minfun - Importance: 2.3 %\n",
      "Feature: sfm - Importance: 1.3 %\n",
      "Feature: sp.ent - Importance: 1.2 %\n",
      "Feature: sd - Importance: 1.0 %\n",
      "Feature: maxdom - Importance: 0.8999999999999999 %\n",
      "Feature: meanfreq - Importance: 0.6 %\n",
      "Feature: mode - Importance: 0.4 %\n",
      "Feature: kurt - Importance: 0.0 %\n",
      "Feature: skew - Importance: 0.0 %\n",
      "Feature: maxfun - Importance: 0.0 %\n",
      "Feature: meandom - Importance: 0.0 %\n",
      "Feature: median - Importance: 0.0 %\n",
      "Feature: mindom - Importance: 0.0 %\n",
      "Feature: modindx - Importance: 0.0 %\n"
     ]
    }
   ],
   "source": [
    "# Feature importance\n",
    "ind = np.argsort(dec_tree_grid.best_estimator_.feature_importances_)[::-1]\n",
    "for name, importance in zip(data.columns[ind], dec_tree_grid.best_estimator_.feature_importances_[ind]):\n",
    "    print('Feature: {0} - Importance: {1} %'.format(name, np.around(importance, 3)*100))"
   ]
  },
  {
   "cell_type": "markdown",
   "metadata": {},
   "source": [
    "## Random Forest"
   ]
  },
  {
   "cell_type": "code",
   "execution_count": 42,
   "metadata": {},
   "outputs": [
    {
     "name": "stdout",
     "output_type": "stream",
     "text": [
      "Classification loss - Random forest: 2.714930319849862 %\n"
     ]
    }
   ],
   "source": [
    "score_rf = np.mean(model_selection.cross_val_score(estimator=random_forest_grid.best_estimator_, X=features_2, y=labels_2, cv=5))\n",
    "print('Classification loss - Random forest: {0} %'.format((1-score_rf)*100))"
   ]
  },
  {
   "cell_type": "code",
   "execution_count": 43,
   "metadata": {},
   "outputs": [
    {
     "name": "stdout",
     "output_type": "stream",
     "text": [
      "Feature: meanfun - Importance: 37.0 %\n",
      "Feature: sd - Importance: 17.5 %\n",
      "Feature: Q25 - Importance: 13.8 %\n",
      "Feature: sp.ent - Importance: 11.1 %\n",
      "Feature: sfm - Importance: 3.8 %\n",
      "Feature: mode - Importance: 3.2 %\n",
      "Feature: median - Importance: 2.1 %\n",
      "Feature: Q75 - Importance: 2.1 %\n",
      "Feature: minfun - Importance: 1.4000000000000001 %\n",
      "Feature: kurt - Importance: 1.3 %\n",
      "Feature: maxfun - Importance: 1.0999999999999999 %\n",
      "Feature: meandom - Importance: 1.0999999999999999 %\n",
      "Feature: maxdom - Importance: 1.0999999999999999 %\n",
      "Feature: meanfreq - Importance: 1.0 %\n",
      "Feature: modindx - Importance: 0.8999999999999999 %\n",
      "Feature: skew - Importance: 0.8 %\n",
      "Feature: mindom - Importance: 0.7000000000000001 %\n"
     ]
    }
   ],
   "source": [
    "# Feature importance\n",
    "ind = np.argsort(random_forest_grid.best_estimator_.feature_importances_)[::-1]\n",
    "for name, importance in zip(data.columns[ind], random_forest_grid.best_estimator_.feature_importances_[ind]):\n",
    "    print('Feature: {0} - Importance: {1} %'.format(name, np.around(importance, 3)*100))"
   ]
  },
  {
   "cell_type": "markdown",
   "metadata": {},
   "source": [
    "## AdaBoost "
   ]
  },
  {
   "cell_type": "code",
   "execution_count": 44,
   "metadata": {},
   "outputs": [
    {
     "name": "stdout",
     "output_type": "stream",
     "text": [
      "Classification loss - AdaBoost: 2.6516391806093553 %\n"
     ]
    }
   ],
   "source": [
    "score_ab = np.mean(model_selection.cross_val_score(estimator=ada_boost_grid.best_estimator_, X=features_2, y=labels_2, cv=5))\n",
    "print('Classification loss - AdaBoost: {0} %'.format((1-score_ab)*100))"
   ]
  },
  {
   "cell_type": "markdown",
   "metadata": {},
   "source": [
    "## Gradient Boosting"
   ]
  },
  {
   "cell_type": "code",
   "execution_count": 45,
   "metadata": {},
   "outputs": [
    {
     "name": "stdout",
     "output_type": "stream",
     "text": [
      "Classification loss - Gradient Boosting: 2.209799145469782 %\n"
     ]
    }
   ],
   "source": [
    "score_gb = np.mean(model_selection.cross_val_score(estimator=g_boost_grid.best_estimator_, X=features_2, y=labels_2, cv=5))\n",
    "print('Classification loss - Gradient Boosting: {0} %'.format((1-score_gb)*100))"
   ]
  },
  {
   "cell_type": "markdown",
   "metadata": {},
   "source": [
    "## Bagging"
   ]
  },
  {
   "cell_type": "code",
   "execution_count": 46,
   "metadata": {},
   "outputs": [
    {
     "name": "stdout",
     "output_type": "stream",
     "text": [
      "Classification loss - Bagging: 3.4726270814199545 %\n"
     ]
    }
   ],
   "source": [
    "score_bag = np.mean(model_selection.cross_val_score(estimator=bagging_grid.best_estimator_, X=features_2, y=labels_2, cv=5))\n",
    "print('Classification loss - Bagging: {0} %'.format((1-score_bag)*100))"
   ]
  },
  {
   "cell_type": "markdown",
   "metadata": {},
   "source": [
    "## ROC curves of different classifiers"
   ]
  },
  {
   "cell_type": "code",
   "execution_count": 47,
   "metadata": {},
   "outputs": [
    {
     "data": {
      "image/png": "[encoded data removed]",
      "text/plain": [
       "<matplotlib.figure.Figure at 0x7f692fd177b8>"
      ]
     },
     "metadata": {},
     "output_type": "display_data"
    },
    {
     "data": {
      "image/png": "[encoded data removed]",
      "text/plain": [
       "<matplotlib.figure.Figure at 0x7f692fd30b00>"
      ]
     },
     "metadata": {},
     "output_type": "display_data"
    }
   ],
   "source": [
    "# Split the second set into 5 folds\n",
    "model_selection.KFold(n_splits=5)\n",
    "fpr_kfold = []\n",
    "tpr_kfold = []\n",
    "# Loop over the folds\n",
    "for train_index, test_index in kf.split(X):\n",
    "    # Gradient boosting classifier\n",
    "    fpr, tpr, thresh = metrics.roc_curve(y_true=labels_2, y_score=g_boost_grid.best_estimator_.predict(X=features_2[test_index]))\n",
    "    auc = metrics.auc(fpr, tpr)\n",
    "    fpr_kfold.append(fpr)\n",
    "    tpr_kfold.append(tpr) \n",
    "    # Kernel SVM\n",
    "    fpr_svm, tpr_svm, thresh = metrics.roc_curve(y_true=labels_2, y_score=class_svm_k_grid.best_estimator_.predict(X=features_2[test_index]))\n",
    "    auc_svm = metrics.auc(fpr_svm, tpr_svm)\n",
    "\n",
    "    # LDA\n",
    "    lda_class.fit(X=features_2, y=labels_2)\n",
    "    fpr_lda, tpr_lda, thresh = metrics.roc_curve(y_true=labels_2, y_score=lda_class.predict(X=features_2[test_index]))\n",
    "    auc_lda = metrics.auc(fpr_lda, tpr_lda)\n",
    "\n",
    "    # kNN\n",
    "    fpr_knn, tpr_knn, thresh = metrics.roc_curve(y_true=labels_2, y_score=knn_grid.best_estimator_.predict(X=features_2[test_index]))\n",
    "    auc_knn = metrics.auc(fpr_knn, tpr_knn)\n",
    "\n",
    "plt.figure(1)\n",
    "lw = 2\n",
    "plt.plot(fpr, tpr, color='darkorange',\n",
    "         lw=lw, label='XGBoost - AUC = %0.2f' % auc)\n",
    "plt.plot(fpr_svm, tpr_svm, color='green',\n",
    "         lw=lw, label='Kernel SVM - AUC = %0.2f' % auc_svm)\n",
    "plt.plot(fpr_lda, tpr_lda, color='blue',\n",
    "         lw=lw, label='LDA - AUC = %0.2f' % auc_lda)\n",
    "plt.plot(fpr_knn, tpr_knn, color='black',\n",
    "         lw=lw, label='kNN - AUC = %0.2f' % auc_knn)\n",
    "plt.plot([0, 1], [0, 1], color='navy', lw=lw, linestyle='--')\n",
    "plt.xlim([0.0, 1.0])\n",
    "plt.ylim([0.0, 1.05])\n",
    "plt.xlabel('False Positive Rate')\n",
    "plt.ylabel('True Positive Rate')\n",
    "plt.title('ROC curve')\n",
    "plt.legend(loc='lower right')\n",
    "plt.show()\n",
    "\n",
    "plt.figure(2)\n",
    "lw = 2\n",
    "plt.plot(fpr, tpr, color='darkorange',\n",
    "         lw=lw, label='XGBoost - AUC = %0.2f' % auc)\n",
    "plt.plot(fpr_svm, tpr_svm, color='green',\n",
    "         lw=lw, label='Kernel SVM - AUC = %0.2f' % auc_svm)\n",
    "plt.plot(fpr_lda, tpr_lda, color='blue',\n",
    "         lw=lw, label='LDA - AUC = %0.2f' % auc_lda)\n",
    "plt.plot(fpr_knn, tpr_knn, color='black',\n",
    "         lw=lw, label='kNN - AUC = %0.2f' % auc_knn)\n",
    "plt.plot([0, 1], [0, 1], color='navy', lw=lw, linestyle='--')\n",
    "plt.xlim(0, 0.2)\n",
    "plt.ylim(0.9, 1)\n",
    "plt.xlabel('False positive rate')\n",
    "plt.ylabel('True positive rate')\n",
    "plt.title('ROC curve (zoomed in at top left)')\n",
    "plt.legend(loc='lower right')\n",
    "plt.show()"
   ]
  },
  {
   "cell_type": "markdown",
   "metadata": {
    "collapsed": true
   },
   "source": [
    "## Conclusions\n",
    " 1. Gradient boosting gives the best results. It is slightly better than kernel SVM.\n",
    " 1. With the 50/50 split strategy, the variance of the test error is reduced compared to the 80/20 split approach. But the variance is still quite high. It could be reduced by increasing the number of folds. Given the size of the datasets, it would lead to too much bias."
   ]
  },
  {
   "cell_type": "code",
   "execution_count": null,
   "metadata": {
    "collapsed": true
   },
   "outputs": [],
   "source": []
  }
 ],
 "metadata": {
  "kernelspec": {
   "display_name": "Python 3",
   "language": "python",
   "name": "python3"
  },
  "language_info": {
   "codemirror_mode": {
    "name": "ipython",
    "version": 3
   },
   "file_extension": ".py",
   "mimetype": "text/x-python",
   "name": "python",
   "nbconvert_exporter": "python",
   "pygments_lexer": "ipython3",
   "version": "3.6.3"
  }
 },
 "nbformat": 4,
 "nbformat_minor": 2
}
