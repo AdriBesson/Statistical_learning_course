{
 "cells": [
  {
   "cell_type": "markdown",
   "metadata": {},
   "source": [
    "# EPFL - Statistical learning (MATH-412) - Week 5\n",
    "## K-fold cross validation"
   ]
  },
  {
   "cell_type": "code",
   "execution_count": 1,
   "metadata": {
    "collapsed": true
   },
   "outputs": [],
   "source": [
    "import os\n",
    "import numpy as np\n",
    "import utils as ut\n",
    "import matplotlib.pyplot as plt\n",
    "import sklearn.linear_model as lm\n",
    "from sklearn.metrics import mean_squared_error as mse\n",
    "import sklearn.model_selection as model_selection\n",
    "import csv"
   ]
  },
  {
   "cell_type": "markdown",
   "metadata": {},
   "source": [
    "First we load the 'bodyfat.csv' dataset"
   ]
  },
  {
   "cell_type": "code",
   "execution_count": 3,
   "metadata": {
    "collapsed": false
   },
   "outputs": [],
   "source": [
    "# Load the dataset\n",
    "input_file = os.path.join(os.getcwd(), 'data',  'bodyfat.csv')\n",
    "file = open(input_file, 'rt')\n",
    "reader = csv.reader(file, delimiter=';')\n",
    "bodyfat = np.array([row for row in reader])\n",
    "\n",
    "# Extract the header\n",
    "header = bodyfat[0,:]\n",
    "\n",
    "# Remove rows 2 and 4\n",
    "col_to_del = [1, 3]\n",
    "bodyfat = np.delete(bodyfat[1:,:], col_to_del, axis=0)\n",
    "\n",
    "# Extract targets and features\n",
    "targets = bodyfat[:,0].astype(np.float64)\n",
    "features = np.array(bodyfat[:,1:]).T.astype(np.float64)"
   ]
  },
  {
   "cell_type": "markdown",
   "metadata": {},
   "source": [
    "Here is the list of regularization parameters we will explore to select the best value"
   ]
  },
  {
   "cell_type": "code",
   "execution_count": 4,
   "metadata": {
    "collapsed": true
   },
   "outputs": [],
   "source": [
    "list_alphas = np.logspace(-6, 6, 200)"
   ]
  },
  {
   "cell_type": "markdown",
   "metadata": {},
   "source": [
    "We create the LASSO model from which we will optimize the regularization parameter"
   ]
  },
  {
   "cell_type": "code",
   "execution_count": 5,
   "metadata": {
    "collapsed": true
   },
   "outputs": [],
   "source": [
    "# Lasso model\n",
    "lasso = lm.Lasso(max_iter=1000, tol=1e-4, random_state=5)"
   ]
  },
  {
   "cell_type": "markdown",
   "metadata": {},
   "source": [
    "We apply the K-fold cross validation and the one standard error rule on the LASSO model we've just created"
   ]
  },
  {
   "cell_type": "code",
   "execution_count": 6,
   "metadata": {
    "collapsed": false
   },
   "outputs": [
    {
     "name": "stdout",
     "output_type": "stream",
     "text": [
      "LASSO - Best lambda - K-fold CV: 0.07663410868007446\n",
      "LASSO - Best error - K-fold CV: 19.51243866367376\n",
      "LASSO - Standard error CV: 6.320731205540608\n",
      "LASSO - Best lambda - K-fold CV - One standard-error rule: 13.049019780144016\n",
      "LASSO - One standard-error rule - error: 25.43040070163812\n"
     ]
    }
   ],
   "source": [
    "# K-fold cross validation for Lasso with different values of the regularization parameter\n",
    "K = 10\n",
    "err_k_lasso = ut.k_fold_cross_valid(K, list_alphas, lasso, features, targets)\n",
    "cv_error_lasso = np.mean(err_k_lasso, axis=1)\n",
    "\n",
    "# Find the best value of lambda for K-fold CV\n",
    "best_alpha = list_alphas[np.argmin(cv_error_lasso)]\n",
    "min_cv_error_lasso = np.min(cv_error_lasso)\n",
    "print('LASSO - Best lambda - K-fold CV: {}'.format(best_alpha))\n",
    "print('LASSO - Best error - K-fold CV: {}'.format(min_cv_error_lasso))\n",
    "\n",
    "# Standard deviation of the CV error\n",
    "avg_err_lasso = np.mean(err_k_lasso, axis=0)\n",
    "std_cv_lasso = 1/np.sqrt(K)*np.sqrt(np.mean((err_k_lasso-avg_err_lasso)**2, axis=1))\n",
    "\n",
    "# Best lambda - one standard error rule\n",
    "list_alphas_ose = list_alphas[list_alphas > best_alpha]\n",
    "cv_error_ose_lasso = cv_error_lasso[list_alphas > best_alpha]\n",
    "list_alphas_ose = list_alphas_ose[cv_error_ose_lasso < min_cv_error_lasso + std_cv_lasso[np.argmin(cv_error_lasso)]]\n",
    "cv_error_ose_lasso = cv_error_ose_lasso[cv_error_ose_lasso < min_cv_error_lasso + std_cv_lasso[np.argmin(cv_error_lasso)]]\n",
    "\n",
    "print('LASSO - Standard error CV: {}'.format(std_cv_lasso[np.argmin(cv_error_lasso)]))\n",
    "print('LASSO - Best lambda - K-fold CV - One standard-error rule: {}'.format(list_alphas_ose[-1]))\n",
    "print('LASSO - One standard-error rule - error: {}'.format(cv_error_ose_lasso[-1]))\n",
    "\n"
   ]
  },
  {
   "cell_type": "markdown",
   "metadata": {},
   "source": [
    "We repeat the same study for the ridge regression model"
   ]
  },
  {
   "cell_type": "code",
   "execution_count": 7,
   "metadata": {
    "collapsed": false
   },
   "outputs": [
    {
     "name": "stdout",
     "output_type": "stream",
     "text": [
      "Ridge - Best lambda - K-fold CV: 0.07663410868007446\n",
      "Ridge - Best error - K-fold CV: 19.565259119377238\n",
      "Ridge - Standard error CV: 1.4150194115667525\n",
      "Ridge - Best lambda - K-fold CV - One standard-error rule: 965.8832241158708\n",
      "Ridge - One standard-error rule - error: 20.83452511351617\n"
     ]
    }
   ],
   "source": [
    "# Create the ridge model\n",
    "ridge = lm.Ridge()\n",
    "\n",
    "# Apply the K-fold cross validation\n",
    "err_k_ridge = ut.k_fold_cross_valid(K, list_alphas, ridge, features, targets)\n",
    "cv_error_ridge = np.mean(err_k_ridge, axis=1)\n",
    "\n",
    "# Find the best value of lambda for K-fold CV\n",
    "best_alpha_ridge = list_alphas[np.argmin(cv_error_ridge)]\n",
    "min_cv_error_ridge = np.min(cv_error_ridge)\n",
    "print('Ridge - Best lambda - K-fold CV: {}'.format(best_alpha))\n",
    "print('Ridge - Best error - K-fold CV: {}'.format(min_cv_error_ridge))\n",
    "\n",
    "# Standard deviation of the CV error\n",
    "avg_err_ridge = np.mean(err_k_ridge, axis=0)\n",
    "std_cv_ridge = 1/np.sqrt(K)*np.sqrt(np.mean((err_k_ridge-avg_err_ridge)**2, axis=1))\n",
    "\n",
    "# Best lambda - one standard error rule\n",
    "list_alphas_ose_ridge = list_alphas[list_alphas > best_alpha]\n",
    "cv_error_ose_ridge = cv_error_ridge[list_alphas > best_alpha]\n",
    "list_alphas_ose_ridge = list_alphas_ose_ridge[cv_error_ose_ridge < min_cv_error_ridge + std_cv_ridge[np.argmin(cv_error_ridge)]]\n",
    "cv_error_ose_ridge = cv_error_ose_ridge[cv_error_ose_ridge < min_cv_error_ridge + std_cv_ridge[np.argmin(cv_error_ridge)]]\n",
    "\n",
    "print('Ridge - Standard error CV: {}'.format(std_cv_ridge[np.argmin(cv_error_ridge)]))\n",
    "print('Ridge - Best lambda - K-fold CV - One standard-error rule: {}'.format(list_alphas_ose_ridge[-1]))\n",
    "print('Ridge - One standard-error rule - error: {}'.format(cv_error_ose_ridge[-1]))\n"
   ]
  },
  {
   "cell_type": "code",
   "execution_count": null,
   "metadata": {
    "collapsed": true
   },
   "outputs": [],
   "source": [
    "# Display the results\n",
    "plt.subplot(121)\n",
    "plt.plot(list_alphas, cv_error_ridge)\n",
    "plt.scatter(best_alpha_ridge, min_cv_error_ridge, label='CV - Min. error')\n",
    "plt.scatter(list_alphas_ose_ridge[-1], cv_error_ose_ridge[-1], label='CV - one standard error rule')\n",
    "ax = plt.gca()\n",
    "ax = plt.gca()\n",
    "ax.set_xscale('log')\n",
    "ax.set_xlabel('Values of the regularization parameter')\n",
    "ax.set_ylabel('Cross-validation error')\n",
    "ax.legend()\n",
    "plt.title('CV error for Ridge')\n",
    "\n",
    "plt.subplot(122)\n",
    "plt.plot(list_alphas, cv_error_lasso)\n",
    "plt.scatter(best_alpha, min_cv_error_lasso, label='CV - Min. error')\n",
    "plt.scatter(list_alphas_ose[-1], cv_error_ose_lasso[-1], label='CV - one standard error rule')\n",
    "ax = plt.gca()\n",
    "ax = plt.gca()\n",
    "ax.set_xscale('log')\n",
    "ax.set_xlabel('Values of the regularization parameter')\n",
    "ax.set_ylabel('Cross-validation error')\n",
    "plt.title('CV error for Lasso')\n",
    "ax.legend()\n",
    "plt.show()\n"
   ]
  }
 ],
 "metadata": {
  "kernelspec": {
   "display_name": "Python 3",
   "language": "python",
   "name": "python3"
  },
  "language_info": {
   "codemirror_mode": {
    "name": "ipython",
    "version": 3
   },
   "file_extension": ".py",
   "mimetype": "text/x-python",
   "name": "python",
   "nbconvert_exporter": "python",
   "pygments_lexer": "ipython3",
   "version": "3.6.0"
  }
 },
 "nbformat": 4,
 "nbformat_minor": 2
}
