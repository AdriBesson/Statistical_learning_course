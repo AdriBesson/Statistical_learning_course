{
 "cells": [
  {
   "cell_type": "markdown",
   "metadata": {
    "collapsed": true
   },
   "source": [
    "# Statistical learning (MATH-412) - Week 1 \n",
    "## Exercise 1.2"
   ]
  },
  {
   "cell_type": "code",
   "execution_count": 1,
   "metadata": {},
   "outputs": [],
   "source": [
    "import os\n",
    "import numpy as np\n",
    "import utils as utils\n",
    "import matplotlib.pyplot as plt"
   ]
  },
  {
   "cell_type": "markdown",
   "metadata": {},
   "source": [
    "1. Import \"simreg1_train.csv\" and \"simreg1_test.csv\""
   ]
  },
  {
   "cell_type": "code",
   "execution_count": 2,
   "metadata": {},
   "outputs": [],
   "source": [
    "# File used in the exercise\n",
    "reg_train_file = os.path.join(os.getcwd(), 'data', 'simreg1_train.csv')\n",
    "reg_test_file = os.path.join(os.getcwd(), 'data', 'simreg1_test.csv')\n",
    "\n",
    "# Load the csv files\n",
    "reg_train = np.genfromtxt(reg_train_file, delimiter=';')\n",
    "reg_test = np.genfromtxt(reg_test_file, delimiter=';')\n",
    "x_train = reg_train[1:,0]\n",
    "y_train = reg_train[1:,1]\n",
    "x_test = reg_test[1:,0]\n",
    "y_test = reg_test[1:,1]"
   ]
  },
  {
   "cell_type": "markdown",
   "metadata": {},
   "source": [
    "1. Compute the least squares estimates for \"simreg1_train.csv\" and plot the fitted values"
   ]
  },
  {
   "cell_type": "code",
   "execution_count": 3,
   "metadata": {},
   "outputs": [
    {
     "data": {
      "image/png": "[encoded data removed]",
      "text/plain": [
       "<matplotlib.figure.Figure at 0x7fb6d2fe5240>"
      ]
     },
     "metadata": {},
     "output_type": "display_data"
    }
   ],
   "source": [
    "# Linear model\n",
    "x_train_reg = np.transpose([np.ones(np.shape(x_train)), x_train])\n",
    "\n",
    "# Fit the linear model to the data\n",
    "beta_train = utils.compute_my_ls_estimate(x_train_reg, y_train)\n",
    "\n",
    "# Fitted values\n",
    "y_train_pred = np.matmul(x_train_reg, beta_train)\n",
    "\n",
    "# Plot the fitted values\n",
    "plt.figure()\n",
    "plt.scatter(x_train,y_train, color='orange', marker='.', linewidth=1, label='data')\n",
    "plt.plot(x_train, y_train_pred, color='blue', label='linear model')\n",
    "plt.title('Fitted values')\n",
    "plt.legend(loc='upper left', frameon=False)\n",
    "plt.ylabel('y')\n",
    "plt.xlabel('x')\n",
    "plt.show()"
   ]
  },
  {
   "cell_type": "markdown",
   "metadata": {},
   "source": [
    "1. Calculate the training error for this dataset using the squared loss"
   ]
  },
  {
   "cell_type": "code",
   "execution_count": 4,
   "metadata": {},
   "outputs": [
    {
     "name": "stdout",
     "output_type": "stream",
     "text": [
      "0.13401949523\n"
     ]
    }
   ],
   "source": [
    "training_error = utils.compute_l2_error(y_train, y_train_pred)\n",
    "print(training_error)"
   ]
  },
  {
   "cell_type": "markdown",
   "metadata": {},
   "source": [
    "1. For the same loss function, calculate the empirical test error for the test dataset"
   ]
  },
  {
   "cell_type": "code",
   "execution_count": 6,
   "metadata": {},
   "outputs": [
    {
     "name": "stdout",
     "output_type": "stream",
     "text": [
      "0.133766967259\n"
     ]
    }
   ],
   "source": [
    "# Linear model\n",
    "x_test_reg = np.transpose([np.ones(np.shape(x_test)), x_test])\n",
    "\n",
    "# Fitted values\n",
    "y_test_pred = np.matmul(x_test_reg, beta_train)\n",
    "\n",
    "# Empirical test error\n",
    "test_error = utils.compute_l2_error(y_test, y_test_pred)\n",
    "print(test_error)"
   ]
  },
  {
   "cell_type": "markdown",
   "metadata": {},
   "source": [
    "1. We will make the model more flexible by adding features to the design matrix X.\n",
    "Add the feature x^2 into your regression model. What happens to the training and test errors now?"
   ]
  },
  {
   "cell_type": "code",
   "execution_count": 7,
   "metadata": {},
   "outputs": [
    {
     "name": "stdout",
     "output_type": "stream",
     "text": [
      "0.066195454128\n0.0659857881544\n"
     ]
    }
   ],
   "source": [
    "# Quadratic model \n",
    "x_train_reg = np.transpose([np.ones(np.shape(x_train)), x_train, x_train**2])\n",
    "x_test_reg = np.transpose([np.ones(np.shape(x_test)), x_test, x_test**2])\n",
    "\n",
    "# Fit the linear model to the data\n",
    "beta_train = utils.compute_my_ls_estimate(x_train_reg, y_train)\n",
    "\n",
    "# Fitted values\n",
    "y_train_pred = np.matmul(x_train_reg, beta_train)\n",
    "y_test_pred = np.matmul(x_test_reg, beta_train)\n",
    "\n",
    "# Losses\n",
    "training_error = utils.compute_l2_error(y_train, y_train_pred)\n",
    "print(training_error)\n",
    "test_error = utils.compute_l2_error(y_test, y_test_pred)\n",
    "print(test_error)"
   ]
  },
  {
   "cell_type": "markdown",
   "metadata": {},
   "source": [
    ""
   ]
  },
  {
   "cell_type": "markdown",
   "metadata": {},
   "source": [
    "1. Add features up to x^k into your regression model, for k = 3, 4, . . . , 10. Calculate the training and test errors for each k = 1, . . . , 10. Make a plot of the training and test\n",
    "errors against k. Discuss. What happens when k > 10?"
   ]
  },
  {
   "cell_type": "code",
   "execution_count": 14,
   "metadata": {},
   "outputs": [
    {
     "data": {
      "image/png": "[encoded data removed]",
      "text/plain": [
       "<matplotlib.figure.Figure at 0x7fb6baa842e8>"
      ]
     },
     "metadata": {},
     "output_type": "display_data"
    }
   ],
   "source": [
    "# Output variables\n",
    "y_train_pred = []\n",
    "y_test_pred = []\n",
    "x_train_reg_list = [np.ones(np.shape(x_train))]\n",
    "x_test_reg_list = [np.ones(np.shape(x_test))]\n",
    "train_loss = []\n",
    "test_loss = []\n",
    "\n",
    "# List of model orders\n",
    "list_model_orders = range(1,14)\n",
    "\n",
    "# Loop over the orders of the regrssion model\n",
    "for k in list_model_orders:\n",
    "    # Build the regression model\n",
    "    x_train_reg_list.append(x_train**k)\n",
    "    x_test_reg_list.append(x_test**k)\n",
    "    x_train_reg = np.asarray(x_train_reg_list)\n",
    "    x_test_reg = np.asarray(x_test_reg_list)\n",
    "\n",
    "    # Compute the LS estimate\n",
    "    beta_train = utils.compute_my_ls_estimate(np.transpose(x_train_reg), y_train)\n",
    "\n",
    "    # Compute the prediction\n",
    "    y_train_pred.append(np.matmul(np.transpose(x_train_reg),beta_train))\n",
    "    y_test_pred.append(np.matmul(np.transpose(x_test_reg),beta_train))\n",
    "\n",
    "    # Calculate the training error\n",
    "    train_loss.append(utils.compute_l2_error(y_train, y_train_pred[k-1]))\n",
    "\n",
    "    # Empirical test error on the test set\n",
    "    test_loss.append(utils.compute_l2_error(y_test, y_test_pred[k-1]))\n",
    "\n",
    "# Plots\n",
    "plt.figure()\n",
    "plt.subplot(121)\n",
    "plt.plot(list_model_orders, train_loss)\n",
    "plt.ylabel('Loss')\n",
    "plt.xlabel('Model order')\n",
    "plt.title('Train loss vs. model order')\n",
    "\n",
    "plt.subplot(122)\n",
    "plt.plot(list_model_orders, test_loss)\n",
    "plt.ylabel('Loss')\n",
    "plt.xlabel('Model order')\n",
    "plt.title('Test loss vs. model order')\n",
    "plt.show()"
   ]
  },
  {
   "cell_type": "markdown",
   "metadata": {},
   "source": [
    ""
   ]
  }
 ],
 "metadata": {
  "kernelspec": {
   "display_name": "Python 2",
   "language": "python",
   "name": "python2"
  },
  "language_info": {
   "codemirror_mode": {
    "name": "ipython",
    "version": 2.0
   },
   "file_extension": ".py",
   "mimetype": "text/x-python",
   "name": "python",
   "nbconvert_exporter": "python",
   "pygments_lexer": "ipython2",
   "version": "2.7.6"
  }
 },
 "nbformat": 4,
 "nbformat_minor": 0
}