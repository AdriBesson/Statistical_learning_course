{
 "cells": [
  {
   "cell_type": "markdown",
   "metadata": {
    "collapsed": true
   },
   "source": [
    "# EPFL - Statistical learning (MATH-412) - Week 1 \n",
    "## Exercise 1.3"
   ]
  },
  {
   "cell_type": "code",
   "execution_count": 1,
   "metadata": {},
   "outputs": [],
   "source": [
    "import os\n",
    "import numpy as np\n",
    "from week1 import utils \n",
    "import matplotlib.pyplot as plt"
   ]
  },
  {
   "cell_type": "markdown",
   "metadata": {},
   "source": [
    "1\\. Write a code that performs a kNN method for classification."
   ]
  },
  {
   "cell_type": "markdown",
   "metadata": {},
   "source": [
    "The method \"knn_estimate\" is implemented in utils "
   ]
  },
  {
   "cell_type": "markdown",
   "metadata": {},
   "source": [
    "2\\. Train your method on the dataset simclass1train, for $k = 1, 2, . . . , 30$. Compute the training error, this time based on the zero-one loss for classification."
   ]
  },
  {
   "cell_type": "code",
   "execution_count": 2,
   "metadata": {},
   "outputs": [],
   "source": [
    "# File used in the exercise\n",
    "class_train_file = os.path.join(os.getcwd(), 'week1', 'data', 'simclass1_train.csv')\n",
    "\n",
    "# Load the csv files\n",
    "class_train = np.genfromtxt(class_train_file, delimiter=';')\n",
    "label_train = class_train[1:,0]\n",
    "x_train = np.zeros((len(label_train), 2))\n",
    "x_train[:,0] = np.array(class_train[1:,1])\n",
    "x_train[:,1] = np.array(class_train[1:,2])\n",
    "\n",
    "# Neighbour sizes\n",
    "list_neighbour_size = range(1,30)\n",
    "\n",
    "# Output variables\n",
    "label_nn_train = []\n",
    "train_loss = []\n",
    "\n",
    "# Local variable used in the loop\n",
    "it = 0\n",
    "\n",
    "# KNN estimation for all the neighbour sizes\n",
    "for neighbour_size in list_neighbour_size:\n",
    "    label_nn_train.append(utils.knn_estimate(x_train, x_train, label_train, neighbour_size=neighbour_size))\n",
    "    train_loss.append(utils.compute_classification_error(label_nn_train[it], label_train))\n",
    "    it+=1"
   ]
  },
  {
   "cell_type": "markdown",
   "metadata": {},
   "source": [
    "The training error is stored in the list \"train_loss\""
   ]
  },
  {
   "cell_type": "markdown",
   "metadata": {},
   "source": [
    "3\\. For each $k$, calculate the test error of the kNN method with the dataset simclass1test.\n",
    "Plot a graph of the training and test errors over k. Discuss."
   ]
  },
  {
   "cell_type": "code",
   "execution_count": 3,
   "metadata": {},
   "outputs": [],
   "source": [
    "# File used in the exercise\n",
    "class_test_file = os.path.join(os.getcwd(), 'week1', 'data', 'simclass1_test.csv')\n",
    "\n",
    "# Load the csv files\n",
    "class_test = np.genfromtxt(class_test_file, delimiter=';')\n",
    "label_test = class_test[1:,0]\n",
    "x_test = np.zeros((len(label_test), 2))\n",
    "x_test[:,0] = np.array(class_test[1:,1])\n",
    "x_test[:,1] = np.array(class_test[1:,2])\n",
    "\n",
    "# Output variables\n",
    "label_nn_test = []\n",
    "test_loss = []\n",
    "\n",
    "# Local variable used in the loop\n",
    "it = 0\n",
    "\n",
    "# KNN estimation for all the neighbour sizes\n",
    "for neighbour_size in list_neighbour_size:\n",
    "    label_nn_test.append(utils.knn_estimate(x_test, x_train, label_train, neighbour_size=neighbour_size))\n",
    "    test_loss.append(utils.compute_classification_error(label_nn_test[it], label_test))\n",
    "    it+=1"
   ]
  },
  {
   "cell_type": "markdown",
   "metadata": {},
   "source": [
    "The test error is stored in the list \"test_loss\""
   ]
  },
  {
   "cell_type": "code",
   "execution_count": 4,
   "metadata": {},
   "outputs": [
    {
     "data": {
      "image/png": "[encoded data removed]",
      "text/plain": [
       "<matplotlib.figure.Figure at 0x7f4b60742fd0>"
      ]
     },
     "metadata": {},
     "output_type": "display_data"
    }
   ],
   "source": [
    "# Plot train and test errors\n",
    "plt.figure()\n",
    "plt.subplot(121)\n",
    "plt.plot(list_neighbour_size, train_loss)\n",
    "plt.ylabel('Loss')\n",
    "plt.xlabel('Number of neighbours')\n",
    "plt.title('Train loss vs. Nb. of neighbours')\n",
    "plt.subplot(122)\n",
    "plt.plot(list_neighbour_size, test_loss)\n",
    "plt.ylabel('Loss')\n",
    "plt.xlabel('Number of neighbours')\n",
    "plt.title('Test loss vs. Nb. of neighbours')\n",
    "plt.show()"
   ]
  },
  {
   "cell_type": "markdown",
   "metadata": {},
   "source": [
    "Both test and train losses increse with the model order which is coherent with the bias-variance tradeoff explained in class."
   ]
  },
  {
   "cell_type": "code",
   "execution_count": null,
   "metadata": {},
   "outputs": [],
   "source": [
    ""
   ]
  }
 ],
 "metadata": {
  "kernelspec": {
   "display_name": "Python 2",
   "language": "python",
   "name": "python2"
  },
  "language_info": {
   "codemirror_mode": {
    "name": "ipython",
    "version": 2.0
   },
   "file_extension": ".py",
   "mimetype": "text/x-python",
   "name": "python",
   "nbconvert_exporter": "python",
   "pygments_lexer": "ipython2",
   "version": "2.7.6"
  }
 },
 "nbformat": 4,
 "nbformat_minor": 0
}